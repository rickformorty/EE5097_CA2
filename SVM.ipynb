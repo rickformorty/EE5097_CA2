{
 "cells": [
  {
   "cell_type": "code",
   "execution_count": 1,
   "metadata": {},
   "outputs": [],
   "source": [
    "from libsvm.svmutil import *\n",
    "import numpy as np\n",
    "import pandas as pd\n",
    "from matplotlib import pyplot as plt"
   ]
  },
  {
   "cell_type": "code",
   "execution_count": 2,
   "metadata": {},
   "outputs": [],
   "source": [
    "x_train = np.load('./x_train.npy',allow_pickle=True)\n",
    "y_train = np.load('./y_train.npy',allow_pickle=True)\n",
    "x_test_PIE = np.load('./x_test_PIE.npy',allow_pickle=True)\n",
    "y_test_PIE = np.load('./y_test_PIE.npy',allow_pickle=True)\n",
    "x_test_slf = np.load('./x_test_slf.npy',allow_pickle=True)\n",
    "y_test_slf = np.load('./y_test_slf.npy',\n",
    "                     allow_pickle=True).reshape(-1)\n",
    "x_test = np.vstack((x_test_PIE, x_test_slf))\n",
    "y_test = np.hstack((y_test_PIE, y_test_slf))"
   ]
  },
  {
   "cell_type": "code",
   "execution_count": 3,
   "metadata": {},
   "outputs": [],
   "source": [
    "# 将数据保存为 LibSVM 格式\n",
    "def save_libsvm_data(x, y, file_path):\n",
    "    with open(file_path, 'w') as file:\n",
    "        for i in range(len(x)):\n",
    "            label = str(y[i])\n",
    "            features = ' '.join([f\"{index + 1}:{value}\" \n",
    "                                 for index, value in enumerate(x[i])])\n",
    "            line = f\"{label} {features}\\n\"\n",
    "            file.write(line)\n",
    "\n",
    "# 保存数据到文件\n",
    "save_libsvm_data(x_train, y_train, './svm/libsvm_train.txt')\n",
    "save_libsvm_data(x_test, y_test, './svm/libsvm_test.txt')"
   ]
  },
  {
   "cell_type": "code",
   "execution_count": 4,
   "metadata": {},
   "outputs": [
    {
     "name": "stdout",
     "output_type": "stream",
     "text": [
      "c =  1e-2 input to SVM is raw\n",
      "Accuracy = 85.759% (1096/1278) (classification)\n",
      "-------------------------------------------------\n",
      "c =  1e-1 input to SVM is raw\n",
      "Accuracy = 85.759% (1096/1278) (classification)\n",
      "-------------------------------------------------\n",
      "c =  1 input to SVM is raw\n",
      "Accuracy = 85.759% (1096/1278) (classification)\n",
      "-------------------------------------------------\n"
     ]
    }
   ],
   "source": [
    "y_train, X_train = svm_read_problem('./svm/libsvm_train.txt')\n",
    "C = ['1e-2', '1e-1', '1']\n",
    "for c in C:\n",
    "    model = svm_train(y_train, X_train, '-c '+ c +' -t 0')\n",
    "    y_test, X_test = svm_read_problem('./svm/libsvm_test.txt')\n",
    "    print('c = ',c, 'input to SVM is raw')\n",
    "    p_labels, p_acc, p_vals = svm_predict(y_test, X_test, model)\n",
    "    print('-------------------------------------------------')"
   ]
  },
  {
   "cell_type": "code",
   "execution_count": 10,
   "metadata": {},
   "outputs": [
    {
     "name": "stdout",
     "output_type": "stream",
     "text": [
      "input to SVM is after PCA, dim = 80\n",
      "     c =  1e-2 :\n",
      "Accuracy = 80.6729% (1031/1278) (classification)\n",
      "     c =  1e-1 :\n",
      "Accuracy = 80.6729% (1031/1278) (classification)\n",
      "     c =  1 :\n",
      "Accuracy = 80.6729% (1031/1278) (classification)\n",
      "-------------------------------------------------\n",
      "input to SVM is after PCA, dim = 200\n",
      "     c =  1e-2 :\n",
      "Accuracy = 84.9765% (1086/1278) (classification)\n",
      "     c =  1e-1 :\n",
      "Accuracy = 84.9765% (1086/1278) (classification)\n",
      "     c =  1 :\n",
      "Accuracy = 84.9765% (1086/1278) (classification)\n",
      "-------------------------------------------------\n"
     ]
    }
   ],
   "source": [
    "def PCA_decomponent(img):\n",
    "    img -= np.mean(img, axis=0)\n",
    "    cov = np.dot(img.T, img)\n",
    "    values,vecs = np.linalg.eig(cov)\n",
    "    V = vecs\n",
    "    vec = vecs[0:200]\n",
    "    return vec\n",
    "\n",
    "def PCA_projection(img, vec):\n",
    "    img -= np.mean(img, axis=0)\n",
    "    return img @ vec.T\n",
    "\n",
    "vec = PCA_decomponent(x_train)\n",
    "X_train_projection = PCA_projection(img=x_train, vec=vec).real\n",
    "x_test_projection = PCA_projection(img=x_test, vec=vec).real\n",
    "D = [80,200]\n",
    "for d in D:\n",
    "    print('input to SVM is after PCA, dim =',d)\n",
    "    for c in C:\n",
    "        model = svm_train(y_train, X_train_projection[:,:d], '-c '+ c +' -t 0')\n",
    "        y_test, X_test = svm_read_problem('./svm/libsvm_test.txt')\n",
    "        print('     c = ',c,':')\n",
    "        p_labels, p_acc, p_vals = svm_predict(y_test, x_test_projection, model)\n",
    "    print('-------------------------------------------------')\n"
   ]
  }
 ],
 "metadata": {
  "kernelspec": {
   "display_name": ".venv",
   "language": "python",
   "name": "python3"
  },
  "language_info": {
   "codemirror_mode": {
    "name": "ipython",
    "version": 3
   },
   "file_extension": ".py",
   "mimetype": "text/x-python",
   "name": "python",
   "nbconvert_exporter": "python",
   "pygments_lexer": "ipython3",
   "version": "3.8.2"
  }
 },
 "nbformat": 4,
 "nbformat_minor": 2
}
